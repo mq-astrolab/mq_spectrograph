{
 "cells": [
  {
   "cell_type": "markdown",
   "metadata": {},
   "source": [
    "# MQ Spectrograph Pipeline Plotting Lab\n",
    "\n",
    "This notebook provides users with an insight into how to plot the raw extracted spectra, the pixel to pixel sensitivity for each order, and the subsequent smoothed spectrum. You should expect 80x3 plots per extracted data (80 raw spectra, 80 pixel to pixel plots, and 80 smoothed spectra).\n",
    "\n",
    "-----------------------------------------------------------------------------------------------------------------\n",
    "\n",
    "<font color = red> NOTE: the basic reduction pipeline notebook must be completed first before attempting to plot anything.\n",
    "    \n",
    "<font color = red> ISSUE: flux_load import does not work on PC computers - need to transfer this code all into the main reduction notebook."
   ]
  },
  {
   "cell_type": "markdown",
   "metadata": {},
   "source": [
    "## Step 1: Import Functions\n",
    "Run the following code which imports a set of functions and Python packages that are utilised in the following\n",
    "code. Note that the location of this file should exist in the same directory as the rest of the reduction scripts, as should your Python Notebook."
   ]
  },
  {
   "cell_type": "code",
   "execution_count": 1,
   "metadata": {},
   "outputs": [],
   "source": [
    "%run /Users/Jacob/Desktop/mq_spectrograph_final/import_functions.py # Mac example\n",
    "# %run C:\\\\Users\\\\87463547\\\\Documents\\\\Physics_data\\\\import_functions.py # Windows example"
   ]
  },
  {
   "cell_type": "markdown",
   "metadata": {},
   "source": [
    "## Step 2: Define Variables\n",
    "Here we define our path to which the code looks for our extracted data to be plotted in this notebook. We also set up our plots directory by searching for a series of sub-directories, and if they do not exist, generate new sub-directories to which our plots that are generated, are saved to.\n",
    "\n",
    "<font color = red> NOTE: remember that the naming convention used when searching for data may differ!\n",
    "    \n",
    "<font color = red> NOTE: flux_load needs to exist in your directory first, and is generated in the basic reduction notebook."
   ]
  },
  {
   "cell_type": "code",
   "execution_count": 2,
   "metadata": {},
   "outputs": [],
   "source": [
    "## double check what files are being imported !!!\n",
    "plot_path = '/Users/Jacob/Desktop/data_for_mq_final/'\n",
    "plot_list = sorted(glob.glob(plot_path + '*00_quick_extracted.fits'))"
   ]
  },
  {
   "cell_type": "code",
   "execution_count": 3,
   "metadata": {},
   "outputs": [],
   "source": [
    "## set a variable to an array that you can use to iterate over in your loops\n",
    "stellar_object = np.arange(0,len(plot_list))\n",
    "\n",
    "## start the time - only for the purpose of seeing how long your plotting goes for\n",
    "start_time = time.time()\n",
    "\n",
    "## generated in basic_reduction_script - loads locally saved extracted flux dictionary \n",
    "## (basic_reduction_script.py only needs to be run once)\n",
    "flux_load = np.load(plot_path + 'flux.npy') .item()\n",
    "\n",
    "## this applies a default gaussian filter to an observed flat field in order to \n",
    "## determine the pixel-to-pixel sensitivity variations as well as the fringing pattern in the red orders. \n",
    "## this is done in 1D, ie for the already extracted spectrum.\n",
    "smoothed_flat, pix_sens = onedim_pixtopix_variations(flux_load)"
   ]
  },
  {
   "cell_type": "code",
   "execution_count": 5,
   "metadata": {},
   "outputs": [],
   "source": [
    "## if statement below should be false first time code is run, so directories are made \n",
    "## (/plots/ is generated in reduction notebook)\n",
    "## any subsequent re-run of the code will skip the if statement\n",
    "\n",
    "## Mac\n",
    "if os.path.isdir(plot_path + '/plots/raw_extracted_spectra') == False:\n",
    "    os.mkdir(plot_path + 'plots/raw_extracted_spectra')\n",
    "    os.mkdir(plot_path + 'plots/pixel_sensitivity')\n",
    "    os.mkdir(plot_path + 'plots/smoothed_extracted_spectra')\n",
    "\n",
    "## this generates a sub-directory within the plots folder that are named appropriately as per the names of the\n",
    "## extracted image files\n",
    "for j in stellar_object:\n",
    "    plot_name = plot_list[j].split('/')\n",
    "    if os.path.isdir(plot_path + '/plots/raw_extracted_spectra/' + plot_name[-1].split('.')[0]) == False:\n",
    "        os.mkdir(plot_path + 'plots/raw_extracted_spectra/' + plot_name[-1].split('.')[0])\n",
    "    if os.path.isdir(plot_path + '/plots/pixel_sensitivity/' + plot_name[-1].split('.')[0]) == False:\n",
    "        os.mkdir(plot_path + 'plots/pixel_sensitivity/' + plot_name[-1].split('.')[0])\n",
    "    if os.path.isdir(plot_path + '/plots/smoothed_extracted_spectra/' + plot_name[-1].split('.')[0]) == False:\n",
    "        os.mkdir(plot_path + 'plots/smoothed_extracted_spectra/' + plot_name[-1].split('.')[0])\n",
    "    \n",
    "## Windows\n",
    "#if os.path.isdir(plot_path + 'plots\\\\raw_extracted_spectra') == False:\n",
    "#    os.mkdir(plot_path + 'plots\\\\raw_extracted_spectra')\n",
    "#    os.mkdir(plot_path + 'plots\\\\pixel_sensitivity')\n",
    "#    os.mkdir(plot_path + 'plots\\\\smoothed_extracted_spectra')"
   ]
  },
  {
   "cell_type": "markdown",
   "metadata": {},
   "source": [
    "## Step 3: Plotting\n",
    "Here we plot the raw extracted spectra, the pixel to pixel sensitivity that can be used to then generate the third set of plots, the smoothed extracted spectra."
   ]
  },
  {
   "cell_type": "code",
   "execution_count": 6,
   "metadata": {},
   "outputs": [
    {
     "name": "stdout",
     "output_type": "stream",
     "text": [
      "Plotting: corrected_mq_blackbody2500_quick_extracted.fits\n"
     ]
    },
    {
     "name": "stderr",
     "output_type": "stream",
     "text": [
      "/anaconda3/lib/python3.7/site-packages/ipykernel_launcher.py:58: RuntimeWarning: divide by zero encountered in true_divide\n",
      "/anaconda3/lib/python3.7/site-packages/ipykernel_launcher.py:58: RuntimeWarning: invalid value encountered in true_divide\n"
     ]
    },
    {
     "name": "stdout",
     "output_type": "stream",
     "text": [
      "Plotting: corrected_mq_blackbody3500_quick_extracted.fits\n",
      "Plotting: corrected_mq_blackbody4500_quick_extracted.fits\n",
      "Plotting: corrected_mq_blackbody6500_quick_extracted.fits\n",
      "Elapsed time: 219.33713221549988 seconds\n"
     ]
    }
   ],
   "source": [
    "## iterate over all elements imported from file\n",
    "for j in stellar_object:\n",
    "\n",
    "    solar_spectrum = pyfits.getdata(plot_list[j])\n",
    "    nx,ny = solar_spectrum.shape\n",
    "    plot_name = plot_list[j].split('/')\n",
    "\n",
    "    print(\"Plotting: \" + plot_name[-1].split('/')[0])\n",
    "\n",
    "    ## iterate over each row of each imported file\n",
    "    for i, o in enumerate(sorted(flux_load.keys())):\n",
    "        one_dim_solar = solar_spectrum[i, :] # cuts imported file into each 1-dim spectra\n",
    "        nx = np.arange(0, ny) # set to the length of the detector (size:4096x4096)\n",
    "\n",
    "        ############################################# RAW SPECTRUM ####################################################\n",
    "\n",
    "        ## 1-dim raw extracted spectra with 5th order polynomial fit (other orders have worsened fit)\n",
    "        ## (x - axis: pixels, y-axis: intensity)\n",
    "\n",
    "        save_plots = plot_path + 'plots/raw_extracted_spectra/' + plot_name[-1].split('.')[0] + '/' # for plotting\n",
    "        ## calculate polynomials\n",
    "        z = np.polyfit(nx, one_dim_solar, 5)\n",
    "        f = np.poly1d(z)\n",
    "        ## calculate new x's and new y's\n",
    "        x_new = np.linspace(nx[0], nx[-1], len(nx))\n",
    "        y_new = f(x_new)\n",
    "        ## plot\n",
    "        plt.figure()\n",
    "        plot_name = plot_list[j].split('/')\n",
    "        plt.xlim(0, ny)\n",
    "        plt.xlabel('Pixels')\n",
    "        plt.ylabel('Intensity')\n",
    "        plt.title(plot_name[-1].split('.')[0] + ' : ' + 'Order: ' + str(i+2))\n",
    "        plt.plot(nx, one_dim_solar, x_new, y_new, 'r', linewidth=2)\n",
    "        plt.savefig(save_plots + plot_name[-1].split('.')[0] + '_order_' + str(i+2) + '.png')\n",
    "        #plt.show() # here for debugging\n",
    "        plt.close()\n",
    "\n",
    "        ############################################ PIXEL SENSITIVITY ################################################\n",
    "\n",
    "        save_plots = plot_path + 'plots/pixel_sensitivity/' + plot_name[-1].split('.')[0] + '/' # for plotting\n",
    "        ## find the pixel sensitivity for each order\n",
    "        ## plot\n",
    "        plt.figure()\n",
    "        plt.xlim(0, ny)\n",
    "        plt.xlabel('Pixels')\n",
    "        plt.ylabel('Relative Sensitivity')\n",
    "        plt.title('Pixel Sensitivity : ' + 'Order: ' + str(i+2))\n",
    "        plt.plot(nx, pix_sens[o])\n",
    "        plt.savefig(save_plots + plot_name[-1].split('.')[0] + '_pixel_sens_order_' + str(i+2) + '.png')\n",
    "        #plt.show() # here for debugging\n",
    "        plt.close()\n",
    "\n",
    "        ############################################# SMOOTH SPECTRUM #################################################\n",
    "\n",
    "        save_plots = plot_path + 'plots/smoothed_extracted_spectra/' + plot_name[-1].split('.')[0] + '/' # for plotting\n",
    "        ## 1-dim raw extracted spectra divided by pixel sensitivity, to produce a 'smoother' spectrum\n",
    "        smooth_1dim = one_dim_solar / pix_sens[o]\n",
    "        ## plot\n",
    "        plt.figure()\n",
    "        plt.xlim(0, ny)\n",
    "        plt.xlabel('Pixels')\n",
    "        plt.ylabel('Intensity')\n",
    "        plt.title('Smoothed: ' + plot_name[-1].split('.')[0] + ' : ' + 'Order: ' + str(i+2))\n",
    "        plt.plot(nx, smooth_1dim, x_new, y_new, 'r', linewidth=2)\n",
    "        plt.savefig(save_plots + plot_name[-1].split('.')[0] + '_smoothed_order_' + str(i+2) + '.png')\n",
    "        #plt.show() # here for debugging\n",
    "        plt.close()\n",
    "\n",
    "        #break # can uncomment the break to test for the 2nd order of first element (need to set i=j=0 before running code)\n",
    "    # break # can uncomment the break to test for the 2nd order of first element (need to set i=j=0 before running code)\n",
    "\n",
    "print('Elapsed time: '+str(time.time() - start_time)+' seconds')"
   ]
  }
 ],
 "metadata": {
  "kernelspec": {
   "display_name": "Python 3",
   "language": "python",
   "name": "python3"
  },
  "language_info": {
   "codemirror_mode": {
    "name": "ipython",
    "version": 3
   },
   "file_extension": ".py",
   "mimetype": "text/x-python",
   "name": "python",
   "nbconvert_exporter": "python",
   "pygments_lexer": "ipython3",
   "version": "3.7.1"
  }
 },
 "nbformat": 4,
 "nbformat_minor": 2
}
